{
 "nbformat": 4,
 "nbformat_minor": 0,
 "metadata": {
  "colab": {
   "name": "Q No.5.ipynb",
   "provenance": [],
   "authorship_tag": "ABX9TyNFzdspHZIY4+jKguxC+gtt"
  },
  "kernelspec": {
   "name": "python3",
   "display_name": "Python 3 (ipykernel)",
   "language": "python"
  },
  "language_info": {
   "name": "python"
  }
 },
 "cells": [
  {
   "cell_type": "code",
   "metadata": {
    "colab": {
     "base_uri": "https://localhost:8080/"
    },
    "id": "yfd_Mp9o8KWA",
    "executionInfo": {
     "status": "ok",
     "timestamp": 1642434997635,
     "user_tz": -345,
     "elapsed": 5,
     "user": {
      "displayName": "Rishav Acharya",
      "photoUrl": "https://lh3.googleusercontent.com/a-/AOh14GiJjmlIcdjuYHBYopjvFbZ7ZjhKusDuWowVd0v6=s64",
      "userId": "10687703206590260356"
     }
    },
    "outputId": "b9772423-7c5a-4d0d-aeab-5696a00e0e9c",
    "ExecuteTime": {
     "end_time": "2025-03-08T18:43:32.618179Z",
     "start_time": "2025-03-08T18:43:32.325901Z"
    }
   },
   "source": [
    "import numpy as np\n",
    "\n",
    "\"\"\"\n",
    "4.\tWrite a python program to implement Standard Scalar.\n",
    "\"\"\"\n",
    "\n",
    "def StandardScaler(data):\n",
    "  data = np.array(data, dtype=float)  # Convert to NumPy array\n",
    "  mean = np.mean(data, axis=0)  # Compute mean for each column\n",
    "  std = np.std(data, axis=0)\n",
    "  scaled_val= (data - mean) / std\n",
    "  return scaled_val\n",
    "\n",
    "data = np.array([[5, 0],[1, 5],[5, 1],[5, 5]])\n",
    "val=StandardScaler(data)\n",
    "print(f\"data after standard scaling: {val}\")"
   ],
   "outputs": [
    {
     "name": "stdout",
     "output_type": "stream",
     "text": [
      "data after standard scaling: [[ 0.57735027 -1.20740686]\n",
      " [-1.73205081  0.98787834]\n",
      " [ 0.57735027 -0.76834982]\n",
      " [ 0.57735027  0.98787834]]\n"
     ]
    }
   ],
   "execution_count": 1
  }
 ]
}
