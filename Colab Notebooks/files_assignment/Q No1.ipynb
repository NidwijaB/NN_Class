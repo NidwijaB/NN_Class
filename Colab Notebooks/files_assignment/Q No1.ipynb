{
 "nbformat": 4,
 "nbformat_minor": 0,
 "metadata": {
  "colab": {
   "name": "Q No1.ipynb",
   "provenance": [],
   "collapsed_sections": [],
   "authorship_tag": "ABX9TyOvvCLi+UOJ7T0Fv4PYIETc"
  },
  "kernelspec": {
   "name": "python3",
   "display_name": "Python 3 (ipykernel)",
   "language": "python"
  },
  "language_info": {
   "name": "python"
  }
 },
 "cells": [
  {
   "metadata": {
    "colab": {
     "base_uri": "https://localhost:8080/"
    },
    "id": "d-0m5ENf3-hf",
    "executionInfo": {
     "status": "ok",
     "timestamp": 1642420753328,
     "user_tz": -345,
     "elapsed": 32871,
     "user": {
      "displayName": "Rishav Acharya",
      "photoUrl": "https://lh3.googleusercontent.com/a-/AOh14GiJjmlIcdjuYHBYopjvFbZ7ZjhKusDuWowVd0v6=s64",
      "userId": "10687703206590260356"
     }
    },
    "outputId": "8798f7bb-e0e2-4f28-eff8-33657ca2b36f",
    "ExecuteTime": {
     "end_time": "2025-03-07T19:10:20.280439Z",
     "start_time": "2025-03-07T19:10:06.287474Z"
    }
   },
   "cell_type": "code",
   "source": [
    "\n",
    "\"\"\"\n",
    "1.\tWrite a python program to create a neuron and predict its output using the threshold activation function.\n",
    "\"\"\"\n",
    "\n",
    "inputs = list(map(float, input(\"Enter the number of inputs seperated by a space::  \").split()))\n",
    "\n",
    "print (f\"inputs are {inputs}\")\n",
    "\n",
    "weights=list(map(float, input(\"Enter space-separated values for the number of weights: \").split()))\n",
    "\n",
    "\n",
    "print (f\"weights are {weights}\")\n",
    "\n",
    "if len(inputs) != len(weights):\n",
    "    print(\"Error: The number of inputs and weights must be the same.\")\n",
    "    exit()\n",
    "\n",
    "u=[]\n",
    "\n",
    "for i in range(0,len(inputs)):\n",
    "\n",
    "    u.append(inputs[i]*weights[i])\n",
    "\n",
    "print(\"Weighted inputs are: \",u)\n",
    "\n",
    "print(\"Sum of weighted inputs: \",sum(u))\n",
    "\n",
    "bias = int(input(\"Enter value of bias: \"))\n",
    "\n",
    "weighted_sum_bias= sum(u) + bias\n",
    "\n",
    "print(\"Weighted sum with bias: \", weighted_sum_bias)\n",
    "\n",
    "c= int(input(\"Enter value of Threshold: \"))\n",
    "\n",
    "if weighted_sum_bias>=c:\n",
    "    o=1\n",
    "    print(\"Neuron is fired\")\n",
    "else:\n",
    "    o=0\n",
    "    print(\"Neuron is not fired\")\n",
    "    print(\"Total Weight with bias: \", weighted_sum_bias, \"Threshold: \" ,  c ,\"Output: \" ,o)\n"
   ],
   "outputs": [
    {
     "name": "stdout",
     "output_type": "stream",
     "text": [
      "inputs are [1.0, 2.0, 3.0]\n",
      "weights are [2.0, 3.0, 1.0]\n",
      "Weighted inputs are:  [2.0, 6.0, 3.0]\n",
      "Sum of weighted inputs:  11.0\n",
      "Weighted sum with bias:  12.0\n",
      "Neuron is fired\n"
     ]
    }
   ],
   "execution_count": 2
  },
  {
   "metadata": {},
   "cell_type": "code",
   "outputs": [],
   "execution_count": null,
   "source": ""
  }
 ]
}
