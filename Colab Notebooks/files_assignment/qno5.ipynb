{
 "cells": [
  {
   "cell_type": "code",
   "id": "initial_id",
   "metadata": {
    "collapsed": true,
    "ExecuteTime": {
     "end_time": "2025-03-08T06:28:54.372247Z",
     "start_time": "2025-03-08T06:28:54.308957Z"
    }
   },
   "source": [
    "import numpy as np\n",
    "import pandas as pd\n",
    "from sklearn.preprocessing import MinMaxScaler\n",
    "\n",
    "\n",
    "\n",
    "\"\"\"\n",
    "\n",
    "5.\tWrite a python program to train perceptron using given training set and predict class for the input (6,82) and (5.3,52)\n",
    "\n",
    "\"\"\"\n",
    "\n",
    "df=pd.read_csv(r\"C:\\Users\\user\\Documents\\PYTHONPROJECTS\\Colab Notebooks\\data\\training_data.csv\")\n",
    "\n",
    "# Convert categorical class to numerical values (Male -> 1, Female -> -1)\n",
    "df[\"Class\"] = df[\"Class\"].map({\"Male\": 1, \"Female\": -1})\n",
    "\n",
    "# Extract features (X) and target (y)\n",
    "training_input = df[[\"Height\", \"Weight\"]].values\n",
    "training_output = df[\"Class\"].values\n",
    "\n",
    "bias = 0\n",
    "alpha = 1\n",
    "\n",
    "def perceptron_training(x, w, t):\n",
    "    global bias\n",
    "    for i in range(len(x)):\n",
    "        v = np.dot(x[i], w) + bias\n",
    "        y = hard_limiter(v)\n",
    "        weight_update = alpha * (t[i] - y) * x[i]\n",
    "        w = np.add(w, weight_update)\n",
    "        bias_update = alpha * (t[i] - y)\n",
    "        bias += bias_update\n",
    "    return w\n",
    "\n",
    "def predict_perceptron(x, w):\n",
    "    v = np.dot(x, w) + bias\n",
    "    y = hard_limiter(v)\n",
    "    return y\n",
    "\n",
    "def hard_limiter(e):\n",
    "    return 1 if e > 0 else -1\n",
    "\n",
    "# Normalize data\n",
    "scaler = MinMaxScaler()\n",
    "training_input = scaler.fit_transform(training_input)\n",
    "\n",
    "# Initialize weights\n",
    "weights = np.zeros(training_input.shape[1])\n",
    "\n",
    "# Train perceptron\n",
    "print(\"Training the perceptron...\")\n",
    "for epoch in range(5):\n",
    "    weights = perceptron_training(training_input, weights, training_output)\n",
    "    print(f\"Epoch {epoch+1}, Weights: {weights}, Bias: {bias}\")\n",
    "\n",
    "# Predict for test cases\n",
    "test_cases = np.array([[6, 82], [5.3, 52],[6.1,60]])  # Given test inputs\n",
    "test_cases_scaled = scaler.transform(test_cases)\n",
    "\n",
    "for test, scaled_test in zip(test_cases, test_cases_scaled):\n",
    "    prediction = predict_perceptron(scaled_test, weights)\n",
    "    predicted_class = \"Male\" if prediction == 1 else \"Female\"\n",
    "    print(f\"Input: {test}, Predicted Class: {predicted_class}\")\n"
   ],
   "outputs": [
    {
     "name": "stdout",
     "output_type": "stream",
     "text": [
      "Training the perceptron...\n",
      "Epoch 1, Weights: [1.11111111 1.11111111], Bias: -2\n",
      "Epoch 2, Weights: [2.22222222 2.22222222], Bias: -2\n",
      "Epoch 3, Weights: [2.22222222 2.22222222], Bias: -2\n",
      "Epoch 4, Weights: [2.22222222 2.22222222], Bias: -2\n",
      "Epoch 5, Weights: [2.22222222 2.22222222], Bias: -2\n",
      "Input: [ 6. 82.], Predicted Class: Male\n",
      "Input: [ 5.3 52. ], Predicted Class: Female\n",
      "Input: [ 6.1 60. ], Predicted Class: Male\n"
     ]
    }
   ],
   "execution_count": 4
  }
 ],
 "metadata": {
  "kernelspec": {
   "display_name": "Python 3",
   "language": "python",
   "name": "python3"
  },
  "language_info": {
   "codemirror_mode": {
    "name": "ipython",
    "version": 2
   },
   "file_extension": ".py",
   "mimetype": "text/x-python",
   "name": "python",
   "nbconvert_exporter": "python",
   "pygments_lexer": "ipython2",
   "version": "2.7.6"
  }
 },
 "nbformat": 4,
 "nbformat_minor": 5
}
