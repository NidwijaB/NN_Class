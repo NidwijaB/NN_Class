{
 "nbformat": 4,
 "nbformat_minor": 0,
 "metadata": {
  "colab": {
   "name": "Q No.4 .ipynb",
   "provenance": [],
   "authorship_tag": "ABX9TyP4SiPQgVlUPos+AZtBlNt5"
  },
  "kernelspec": {
   "name": "python3",
   "display_name": "Python 3 (ipykernel)",
   "language": "python"
  },
  "language_info": {
   "name": "python"
  }
 },
 "cells": [
  {
   "cell_type": "code",
   "metadata": {
    "colab": {
     "base_uri": "https://localhost:8080/"
    },
    "id": "3YAqLOKqA8qJ",
    "executionInfo": {
     "status": "ok",
     "timestamp": 1642434960219,
     "user_tz": -345,
     "elapsed": 384,
     "user": {
      "displayName": "Rishav Acharya",
      "photoUrl": "https://lh3.googleusercontent.com/a-/AOh14GiJjmlIcdjuYHBYopjvFbZ7ZjhKusDuWowVd0v6=s64",
      "userId": "10687703206590260356"
     }
    },
    "outputId": "d85909d8-dcc3-4fe6-f8d9-c9bd06b403e9",
    "ExecuteTime": {
     "end_time": "2025-03-08T18:28:54.039465Z",
     "start_time": "2025-03-08T18:28:53.507459Z"
    }
   },
   "source": [
    "import numpy as np\n",
    "\n",
    "\"\"\"\n",
    "3.\tWrite a python program to implement Min-Max Scalar.\n",
    "\"\"\"\n",
    "def MinMaxScalar(data):\n",
    "    data=np.array(data,dtype=float)\n",
    "\n",
    "    maxValue = np.amax(data,axis=0)\n",
    "    minValue = np.amin(data,axis=0)\n",
    "    print(f\"Data before scale is: {data} \")\n",
    "    return ((np.array(data) - minValue) / (maxValue - minValue))\n",
    "\n",
    "\n",
    "data = [[10 , 10],[5 , 5 ],[10 , 13 ],[15, 20]]\n",
    "scaledData = MinMaxScalar(data)\n",
    "print(\"data after scaling::\")\n",
    "print(scaledData)\n"
   ],
   "outputs": [
    {
     "name": "stdout",
     "output_type": "stream",
     "text": [
      "Data before scale is: [[10. 10.]\n",
      " [ 5.  5.]\n",
      " [10. 13.]\n",
      " [15. 20.]] \n",
      "data after scaling::\n",
      "[[0.5        0.33333333]\n",
      " [0.         0.        ]\n",
      " [0.5        0.53333333]\n",
      " [1.         1.        ]]\n"
     ]
    }
   ],
   "execution_count": 1
  }
 ]
}
